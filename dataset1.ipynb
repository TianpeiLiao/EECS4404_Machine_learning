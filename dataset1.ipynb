{
  "nbformat": 4,
  "nbformat_minor": 0,
  "metadata": {
    "colab": {
      "name": "EECS4404_A1_Handout_new_(1) (4).ipynb",
      "provenance": [],
      "collapsed_sections": []
    },
    "kernelspec": {
      "name": "python3",
      "display_name": "Python 3"
    },
    "language_info": {
      "name": "python"
    }
  },
  "cells": [
    {
      "cell_type": "markdown",
      "metadata": {
        "id": "6m6JuCEKp8OZ"
      },
      "source": [
        "# Step 0: Download and Procress Data\n",
        "\n",
        "You need to run the code below here and ensure that it works.  Assuming it has run without any error messages, there is nothing more you need to do.\n",
        "\n",
        "## Fetch Data from UCI\n",
        "\n",
        "This downloads the data from the UCI machine learning database repository.  If are using this notebook on a local machine and it doesn't work for you, you can download the files directly from https://archive.ics.uci.edu/ml/machine-learning-databases/arrhythmia/ and place them in your working directory."
      ]
    },
    {
      "cell_type": "code",
      "metadata": {
        "colab": {
          "base_uri": "https://localhost:8080/"
        },
        "id": "pCBAbTedonLI",
        "outputId": "4b729794-048a-4fa6-e283-a9343d453e0b"
      },
      "source": [
        "import math\n",
        "!wget https://archive.ics.uci.edu/ml/machine-learning-databases/arrhythmia/arrhythmia.data https://archive.ics.uci.edu/ml/machine-learning-databases/arrhythmia/arrhythmia.names\n"
      ],
      "execution_count": 2,
      "outputs": [
        {
          "output_type": "stream",
          "name": "stdout",
          "text": [
            "--2021-10-11 17:51:34--  https://archive.ics.uci.edu/ml/machine-learning-databases/arrhythmia/arrhythmia.data\n",
            "Resolving archive.ics.uci.edu (archive.ics.uci.edu)... 128.195.10.252\n",
            "Connecting to archive.ics.uci.edu (archive.ics.uci.edu)|128.195.10.252|:443... connected.\n",
            "HTTP request sent, awaiting response... 200 OK\n",
            "Length: 402355 (393K) [application/x-httpd-php]\n",
            "Saving to: ‘arrhythmia.data’\n",
            "\n",
            "arrhythmia.data     100%[===================>] 392.92K  --.-KB/s    in 0.1s    \n",
            "\n",
            "2021-10-11 17:51:35 (2.60 MB/s) - ‘arrhythmia.data’ saved [402355/402355]\n",
            "\n",
            "--2021-10-11 17:51:35--  https://archive.ics.uci.edu/ml/machine-learning-databases/arrhythmia/arrhythmia.names\n",
            "Reusing existing connection to archive.ics.uci.edu:443.\n",
            "HTTP request sent, awaiting response... 200 OK\n",
            "Length: 6162 (6.0K) [application/x-httpd-php]\n",
            "Saving to: ‘arrhythmia.names’\n",
            "\n",
            "arrhythmia.names    100%[===================>]   6.02K  --.-KB/s    in 0s      \n",
            "\n",
            "2021-10-11 17:51:35 (71.1 MB/s) - ‘arrhythmia.names’ saved [6162/6162]\n",
            "\n",
            "FINISHED --2021-10-11 17:51:35--\n",
            "Total wall clock time: 0.3s\n",
            "Downloaded: 2 files, 399K in 0.1s (2.64 MB/s)\n"
          ]
        }
      ]
    },
    {
      "cell_type": "code",
      "metadata": {
        "colab": {
          "base_uri": "https://localhost:8080/"
        },
        "id": "QperY36QorHB",
        "outputId": "547eeeba-bec2-4db1-cac2-d29721a1fac0"
      },
      "source": [
        "print(\"First lines of the datafile:\")\n",
        "!head -n 10 arrhythmia.names\n",
        "\n",
        "print(\"First lines of the datafile:\")\n",
        "!head -n 5 arrhythmia.data"
      ],
      "execution_count": 3,
      "outputs": [
        {
          "output_type": "stream",
          "name": "stdout",
          "text": [
            "First lines of the datafile:\n",
            "1. Title: Cardiac Arrhythmia Database\n",
            "\n",
            "2. Sources:\n",
            "   (a) Original owners od Database:\n",
            "       -- 1. H. Altay Guvenir, PhD., \n",
            "             Bilkent University,\n",
            "             Department of Computer Engineering and Information Science,\n",
            "             06533 Ankara, Turkey\n",
            "             Phone: +90 (312) 266 4133\n",
            "             Email: guvenir@cs.bilkent.edu.tr\n",
            "First lines of the datafile:\n",
            "75,0,190,80,91,193,371,174,121,-16,13,64,-2,?,63,0,52,44,0,0,32,0,0,0,0,0,0,0,44,20,36,0,28,0,0,0,0,0,0,52,40,0,0,0,60,0,0,0,0,0,0,52,0,0,0,0,0,0,0,0,0,0,0,0,56,36,0,0,32,0,0,0,0,0,0,48,32,0,0,0,56,0,0,0,0,0,0,80,0,0,0,0,0,0,0,0,0,0,0,0,40,52,0,0,28,0,0,0,0,0,0,0,48,48,0,0,32,0,0,0,0,0,0,0,52,52,0,0,36,0,0,0,0,0,0,0,52,48,0,0,32,0,0,0,0,0,0,0,56,44,0,0,32,0,0,0,0,0,0,-0.2,0.0,6.1,-1.0,0.0,0.0,0.6,2.1,13.6,30.8,0.0,0.0,1.7,-1.0,0.6,0.0,1.3,1.5,3.7,14.5,0.1,-5.2,1.4,0.0,0.0,0.0,0.8,-0.6,-10.7,-15.6,0.4,-3.9,0.0,0.0,0.0,0.0,-0.8,-1.7,-10.1,-22.0,0.0,0.0,5.7,-1.0,0.0,0.0,-0.1,1.2,14.1,22.5,0.0,-2.5,0.8,0.0,0.0,0.0,1.0,0.4,-4.8,-2.7,0.1,-6.0,0.0,0.0,0.0,0.0,-0.8,-0.6,-24.0,-29.7,0.0,0.0,2.0,-6.4,0.0,0.0,0.2,2.9,-12.6,15.2,-0.1,0.0,8.4,-10.0,0.0,0.0,0.6,5.9,-3.9,52.7,-0.3,0.0,15.2,-8.4,0.0,0.0,0.9,5.1,17.7,70.7,-0.4,0.0,13.5,-4.0,0.0,0.0,0.9,3.9,25.5,62.9,-0.3,0.0,9.0,-0.9,0.0,0.0,0.9,2.9,23.3,49.4,8\n",
            "56,1,165,64,81,174,401,149,39,25,37,-17,31,?,53,0,48,0,0,0,24,0,0,0,0,0,0,0,64,0,0,0,24,0,0,0,0,0,0,32,24,0,0,0,40,0,0,0,0,0,0,48,0,0,0,0,0,0,0,0,0,0,0,0,44,20,0,0,24,0,0,0,0,0,0,0,60,0,0,0,20,0,0,0,0,0,0,0,24,52,0,0,16,0,0,0,0,0,0,0,32,52,0,0,20,0,0,0,0,0,0,0,44,48,0,0,32,0,0,0,0,0,0,0,48,44,0,0,32,0,0,0,0,0,0,0,48,40,0,0,28,0,0,0,0,0,0,0,48,0,0,0,28,0,0,0,0,0,0,-0.6,0.0,7.2,0.0,0.0,0.0,0.4,1.5,17.2,26.5,0.0,0.0,5.5,0.0,0.0,0.0,0.1,1.7,17.6,29.5,0.3,-1.6,0.9,0.0,0.0,0.0,-0.3,0.4,-1.5,1.3,0.1,-6.4,0.0,0.0,0.0,0.0,-0.3,-1.6,-15.3,-25.5,-0.3,0.0,4.2,-0.9,0.0,0.0,0.4,0.7,8.3,12.3,0.2,0.0,2.2,0.0,0.0,0.0,-0.2,0.8,6.6,11.7,0.4,0.0,1.0,-8.8,0.0,0.0,0.5,-0.6,-21.6,-26.8,0.4,0.0,2.6,-7.9,0.0,0.0,0.8,2.0,-16.4,1.2,0.0,0.0,5.8,-7.7,0.0,0.0,0.9,3.8,-5.7,27.7,-0.2,0.0,9.5,-5.0,0.0,0.0,0.5,2.6,11.8,34.6,-0.4,0.0,11.0,-2.4,0.0,0.0,0.4,2.6,21.6,43.4,-0.5,0.0,8.5,0.0,0.0,0.0,0.2,2.1,20.4,38.8,6\n",
            "54,0,172,95,138,163,386,185,102,96,34,70,66,23,75,0,40,80,0,0,24,0,0,0,0,0,0,20,56,52,0,0,40,0,0,0,0,0,0,28,116,0,0,0,52,0,0,0,0,0,0,52,64,0,0,0,88,0,0,0,0,0,0,0,36,92,0,0,24,0,0,0,0,0,0,0,128,0,0,0,24,0,1,0,0,0,0,0,24,36,76,0,100,0,0,0,0,0,0,0,40,28,60,0,96,0,0,0,0,0,0,0,48,20,56,24,32,0,0,0,0,0,0,0,44,88,0,0,28,0,0,0,0,0,0,0,44,76,0,0,28,0,0,0,0,0,0,0,44,72,0,0,24,0,0,0,0,0,0,1.0,0.0,4.5,-2.8,0.0,0.0,0.3,2.5,-2.2,19.8,0.8,-0.4,6.4,-1.3,0.0,0.0,0.7,2.7,14.2,37.9,-0.2,-0.6,4.4,0.0,0.0,0.0,0.5,0.2,24.7,26.2,-1.0,-5.3,1.8,0.0,0.0,0.0,-0.5,-2.5,-8.0,-28.5,0.5,0.0,1.7,-2.7,0.0,0.0,-0.2,1.0,-9.4,-1.2,0.4,0.0,4.9,0.0,0.0,0.0,0.6,1.4,31.3,42.7,-0.8,0.0,0.7,-3.8,6.5,0.0,0.3,-3.3,18.7,-13.6,-0.9,0.0,2.2,-4.1,7.4,0.0,0.5,-2.4,20.9,-2.6,0.0,0.0,5.8,-4.1,4.0,-0.5,0.4,0.3,20.4,23.3,0.7,0.0,10.0,-5.7,0.0,0.0,0.5,2.2,-3.0,20.7,1.3,0.0,11.1,-3.4,0.0,0.0,0.4,3.4,11.5,48.2,0.9,0.0,9.5,-2.4,0.0,0.0,0.3,3.4,12.3,49.0,10\n",
            "55,0,175,94,100,202,380,179,143,28,11,-5,20,?,71,0,72,20,0,0,48,0,0,0,0,0,0,0,64,36,0,0,36,0,0,0,0,0,0,20,52,48,0,0,56,0,0,0,0,0,0,64,32,0,0,0,72,0,0,0,0,0,0,0,60,12,0,0,44,0,0,0,0,0,0,0,60,44,0,0,32,0,0,0,0,0,0,56,0,0,0,0,0,0,0,0,0,0,0,0,40,44,0,0,20,0,0,0,0,0,0,0,52,40,0,0,32,0,0,0,0,0,0,0,56,48,0,0,36,0,0,0,0,0,0,0,60,48,0,0,36,0,0,0,0,0,0,0,64,40,0,0,40,0,0,0,0,0,0,0.9,0.0,7.8,-0.7,0.0,0.0,1.1,1.9,27.3,45.1,0.1,0.0,9.1,-2.6,0.0,0.0,0.4,1.5,24.5,36.8,-0.4,-0.4,1.6,-2.2,0.0,0.0,-1.0,-0.9,-1.5,-9.2,-0.4,-8.2,1.8,0.0,0.0,0.0,-0.7,-1.7,-23.4,-35.6,0.9,0.0,3.2,-0.4,0.0,0.0,0.7,1.2,9.4,18.0,-0.1,0.0,5.1,-2.5,0.0,0.0,0.3,0.6,9.8,12.6,1.6,-6.5,0.0,0.0,0.0,0.0,-0.4,-0.4,-18.2,-22.4,2.1,0.0,1.2,-6.9,0.0,0.0,-0.5,2.9,-12.7,18.0,0.7,0.0,9.0,-7.9,0.0,0.0,0.1,4.1,7.6,51.0,0.4,0.0,15.0,-5.5,0.0,0.0,0.1,3.3,28.8,63.1,0.1,0.0,15.2,-3.7,0.0,0.0,0.6,3.0,36.8,68.0,0.1,0.0,12.2,-2.2,0.0,0.0,0.4,2.6,34.6,61.6,1\n",
            "75,0,190,80,88,181,360,177,103,-16,13,61,3,?,?,0,48,40,0,0,28,0,0,0,0,0,0,0,40,24,0,0,24,0,0,0,0,0,0,52,36,0,0,0,60,0,0,0,0,0,0,48,28,0,0,0,56,0,0,0,0,0,0,0,48,36,0,0,28,0,0,0,0,0,0,44,0,0,0,0,0,0,0,0,0,0,0,88,0,0,0,0,0,0,0,0,0,0,0,0,40,52,0,0,28,0,0,0,0,0,0,0,48,48,0,0,32,0,0,0,0,0,0,0,48,52,0,0,32,0,0,0,0,0,0,0,52,44,0,0,28,0,0,0,0,0,0,0,52,48,0,0,32,0,0,0,0,0,0,0.0,0.0,5.2,-1.4,0.0,0.0,0.9,2.3,9.6,31.6,0.1,0.0,1.6,-0.5,0.0,0.0,1.9,1.7,2.6,18.9,0.2,-3.8,1.2,0.0,0.0,0.0,1.0,-0.6,-7.7,-13.4,-0.1,-3.4,0.8,0.0,0.0,0.0,-1.4,-1.5,-7.0,-17.8,-0.1,0.0,4.4,-1.3,0.0,0.0,-0.1,1.1,8.2,16.5,0.6,-1.6,0.0,0.0,0.0,0.0,1.4,0.3,-3.5,-1.9,0.0,-5.7,0.0,0.0,0.0,0.0,-0.4,-0.5,-25.0,-30.0,-0.2,0.0,1.6,-6.0,0.0,0.0,-0.7,2.1,-12.4,8.6,-0.5,0.0,8.5,-10.2,0.0,0.0,-1.0,4.7,-4.0,43.0,-0.2,0.0,15.2,-7.8,0.0,0.0,-0.1,4.9,16.2,63.2,-0.2,0.0,9.1,-0.9,0.0,0.0,-0.2,2.9,21.7,48.9,-0.4,0.0,13.1,-3.6,0.0,0.0,-0.1,3.9,25.4,62.8,7\n"
          ]
        }
      ]
    },
    {
      "cell_type": "markdown",
      "metadata": {
        "id": "2hTI2R16yR3T"
      },
      "source": [
        "## Load and Parse Data with Pandas\n",
        "\n",
        "This sets up a Pandas DataFrame object which has proper names and datatypes for the dataset.  Pandas is a standard and widely used library for data science.  You can learn more about it here: https://pandas.pydata.org/docs/getting_started/index.html"
      ]
    },
    {
      "cell_type": "code",
      "metadata": {
        "colab": {
          "base_uri": "https://localhost:8080/",
          "height": 253
        },
        "id": "YKsF_oH-qNiv",
        "outputId": "386662ad-10f1-4ab6-e7c2-d2c0702051bf"
      },
      "source": [
        "import pandas as pd\n",
        "import numpy as np\n",
        "import scipy as sp\n",
        "import scipy.special as spsp\n",
        "import matplotlib.pyplot as plt\n",
        "import warnings\n",
        "warnings.filterwarnings(\"ignore\", category=np.VisibleDeprecationWarning) \n",
        "\n",
        "channels = ['di','dii','diii','avr','avl','avf','v1','v2','v3','v4','v5','v6']\n",
        "features = [('age','num'), ('sex','bool'), ('height','num'), ('weight','num')] + \\\n",
        "           [('qrs_dur','num'), ('pr_inter','num'), ('qt_inter','num'), ('t_inter','num'), ('p_inter','num')] + \\\n",
        "           [('qrs','num'), ('t','num'), ('p','num'), ('qrst','num'), ('j','num'), ('heart_rate','num')]\n",
        "for chan in channels:\n",
        "  for fn in ['width_q', 'width_r', 'width_s', 'width_rp', 'width_sp','num_deflections',\n",
        "             'ragged_r', 'diphasic_r','ragged_p', 'diphasic_p',\n",
        "             'ragged_t', 'diphasic_t']:\n",
        "\n",
        "    if fn.startswith('ragged') or fn.startswith('diphasic'):\n",
        "      features.append((chan + '_' + fn,'bool'))\n",
        "    else:\n",
        "      features.append((chan + '_' + fn,'num'))\n",
        "\n",
        "for chan in channels:\n",
        "  for fn in ['amp_jj', 'amp_q', 'amp_r', 'amp_s', 'amp_rp', 'amp_sp', 'amp_p', 'amp_t', 'qrsa', 'qrsta']:\n",
        "    features.append((chan + '_' + fn,'num'))\n",
        "    # feature_names.append(chan + '_' + fn)\n",
        "\n",
        "features.append(('class','cat'))\n",
        "feature_names = [ a for a,b in features ]\n",
        "dtype_map = {'bool':np.bool, 'num':np.float64, 'cat':np.int8}\n",
        "feature_dtypes = dict([(a,dtype_map[b]) for a,b in features ])\n",
        "\n",
        "data = pd.read_csv('arrhythmia.data',\n",
        "                   names=feature_names,dtype=feature_dtypes,\n",
        "                   na_values='?')\n",
        "data.head()"
      ],
      "execution_count": 4,
      "outputs": [
        {
          "output_type": "execute_result",
          "data": {
            "text/html": [
              "<div>\n",
              "<style scoped>\n",
              "    .dataframe tbody tr th:only-of-type {\n",
              "        vertical-align: middle;\n",
              "    }\n",
              "\n",
              "    .dataframe tbody tr th {\n",
              "        vertical-align: top;\n",
              "    }\n",
              "\n",
              "    .dataframe thead th {\n",
              "        text-align: right;\n",
              "    }\n",
              "</style>\n",
              "<table border=\"1\" class=\"dataframe\">\n",
              "  <thead>\n",
              "    <tr style=\"text-align: right;\">\n",
              "      <th></th>\n",
              "      <th>age</th>\n",
              "      <th>sex</th>\n",
              "      <th>height</th>\n",
              "      <th>weight</th>\n",
              "      <th>qrs_dur</th>\n",
              "      <th>pr_inter</th>\n",
              "      <th>qt_inter</th>\n",
              "      <th>t_inter</th>\n",
              "      <th>p_inter</th>\n",
              "      <th>qrs</th>\n",
              "      <th>t</th>\n",
              "      <th>p</th>\n",
              "      <th>qrst</th>\n",
              "      <th>j</th>\n",
              "      <th>heart_rate</th>\n",
              "      <th>di_width_q</th>\n",
              "      <th>di_width_r</th>\n",
              "      <th>di_width_s</th>\n",
              "      <th>di_width_rp</th>\n",
              "      <th>di_width_sp</th>\n",
              "      <th>di_num_deflections</th>\n",
              "      <th>di_ragged_r</th>\n",
              "      <th>di_diphasic_r</th>\n",
              "      <th>di_ragged_p</th>\n",
              "      <th>di_diphasic_p</th>\n",
              "      <th>di_ragged_t</th>\n",
              "      <th>di_diphasic_t</th>\n",
              "      <th>dii_width_q</th>\n",
              "      <th>dii_width_r</th>\n",
              "      <th>dii_width_s</th>\n",
              "      <th>dii_width_rp</th>\n",
              "      <th>dii_width_sp</th>\n",
              "      <th>dii_num_deflections</th>\n",
              "      <th>dii_ragged_r</th>\n",
              "      <th>dii_diphasic_r</th>\n",
              "      <th>dii_ragged_p</th>\n",
              "      <th>dii_diphasic_p</th>\n",
              "      <th>dii_ragged_t</th>\n",
              "      <th>dii_diphasic_t</th>\n",
              "      <th>diii_width_q</th>\n",
              "      <th>...</th>\n",
              "      <th>v3_amp_q</th>\n",
              "      <th>v3_amp_r</th>\n",
              "      <th>v3_amp_s</th>\n",
              "      <th>v3_amp_rp</th>\n",
              "      <th>v3_amp_sp</th>\n",
              "      <th>v3_amp_p</th>\n",
              "      <th>v3_amp_t</th>\n",
              "      <th>v3_qrsa</th>\n",
              "      <th>v3_qrsta</th>\n",
              "      <th>v4_amp_jj</th>\n",
              "      <th>v4_amp_q</th>\n",
              "      <th>v4_amp_r</th>\n",
              "      <th>v4_amp_s</th>\n",
              "      <th>v4_amp_rp</th>\n",
              "      <th>v4_amp_sp</th>\n",
              "      <th>v4_amp_p</th>\n",
              "      <th>v4_amp_t</th>\n",
              "      <th>v4_qrsa</th>\n",
              "      <th>v4_qrsta</th>\n",
              "      <th>v5_amp_jj</th>\n",
              "      <th>v5_amp_q</th>\n",
              "      <th>v5_amp_r</th>\n",
              "      <th>v5_amp_s</th>\n",
              "      <th>v5_amp_rp</th>\n",
              "      <th>v5_amp_sp</th>\n",
              "      <th>v5_amp_p</th>\n",
              "      <th>v5_amp_t</th>\n",
              "      <th>v5_qrsa</th>\n",
              "      <th>v5_qrsta</th>\n",
              "      <th>v6_amp_jj</th>\n",
              "      <th>v6_amp_q</th>\n",
              "      <th>v6_amp_r</th>\n",
              "      <th>v6_amp_s</th>\n",
              "      <th>v6_amp_rp</th>\n",
              "      <th>v6_amp_sp</th>\n",
              "      <th>v6_amp_p</th>\n",
              "      <th>v6_amp_t</th>\n",
              "      <th>v6_qrsa</th>\n",
              "      <th>v6_qrsta</th>\n",
              "      <th>class</th>\n",
              "    </tr>\n",
              "  </thead>\n",
              "  <tbody>\n",
              "    <tr>\n",
              "      <th>0</th>\n",
              "      <td>75.0</td>\n",
              "      <td>False</td>\n",
              "      <td>190.0</td>\n",
              "      <td>80.0</td>\n",
              "      <td>91.0</td>\n",
              "      <td>193.0</td>\n",
              "      <td>371.0</td>\n",
              "      <td>174.0</td>\n",
              "      <td>121.0</td>\n",
              "      <td>-16.0</td>\n",
              "      <td>13.0</td>\n",
              "      <td>64.0</td>\n",
              "      <td>-2.0</td>\n",
              "      <td>NaN</td>\n",
              "      <td>63.0</td>\n",
              "      <td>0.0</td>\n",
              "      <td>52.0</td>\n",
              "      <td>44.0</td>\n",
              "      <td>0.0</td>\n",
              "      <td>0.0</td>\n",
              "      <td>32.0</td>\n",
              "      <td>False</td>\n",
              "      <td>False</td>\n",
              "      <td>False</td>\n",
              "      <td>False</td>\n",
              "      <td>False</td>\n",
              "      <td>False</td>\n",
              "      <td>0.0</td>\n",
              "      <td>44.0</td>\n",
              "      <td>20.0</td>\n",
              "      <td>36.0</td>\n",
              "      <td>0.0</td>\n",
              "      <td>28.0</td>\n",
              "      <td>False</td>\n",
              "      <td>False</td>\n",
              "      <td>False</td>\n",
              "      <td>False</td>\n",
              "      <td>False</td>\n",
              "      <td>False</td>\n",
              "      <td>52.0</td>\n",
              "      <td>...</td>\n",
              "      <td>0.0</td>\n",
              "      <td>8.4</td>\n",
              "      <td>-10.0</td>\n",
              "      <td>0.0</td>\n",
              "      <td>0.0</td>\n",
              "      <td>0.6</td>\n",
              "      <td>5.9</td>\n",
              "      <td>-3.9</td>\n",
              "      <td>52.7</td>\n",
              "      <td>-0.3</td>\n",
              "      <td>0.0</td>\n",
              "      <td>15.2</td>\n",
              "      <td>-8.4</td>\n",
              "      <td>0.0</td>\n",
              "      <td>0.0</td>\n",
              "      <td>0.9</td>\n",
              "      <td>5.1</td>\n",
              "      <td>17.7</td>\n",
              "      <td>70.7</td>\n",
              "      <td>-0.4</td>\n",
              "      <td>0.0</td>\n",
              "      <td>13.5</td>\n",
              "      <td>-4.0</td>\n",
              "      <td>0.0</td>\n",
              "      <td>0.0</td>\n",
              "      <td>0.9</td>\n",
              "      <td>3.9</td>\n",
              "      <td>25.5</td>\n",
              "      <td>62.9</td>\n",
              "      <td>-0.3</td>\n",
              "      <td>0.0</td>\n",
              "      <td>9.0</td>\n",
              "      <td>-0.9</td>\n",
              "      <td>0.0</td>\n",
              "      <td>0.0</td>\n",
              "      <td>0.9</td>\n",
              "      <td>2.9</td>\n",
              "      <td>23.3</td>\n",
              "      <td>49.4</td>\n",
              "      <td>8</td>\n",
              "    </tr>\n",
              "    <tr>\n",
              "      <th>1</th>\n",
              "      <td>56.0</td>\n",
              "      <td>True</td>\n",
              "      <td>165.0</td>\n",
              "      <td>64.0</td>\n",
              "      <td>81.0</td>\n",
              "      <td>174.0</td>\n",
              "      <td>401.0</td>\n",
              "      <td>149.0</td>\n",
              "      <td>39.0</td>\n",
              "      <td>25.0</td>\n",
              "      <td>37.0</td>\n",
              "      <td>-17.0</td>\n",
              "      <td>31.0</td>\n",
              "      <td>NaN</td>\n",
              "      <td>53.0</td>\n",
              "      <td>0.0</td>\n",
              "      <td>48.0</td>\n",
              "      <td>0.0</td>\n",
              "      <td>0.0</td>\n",
              "      <td>0.0</td>\n",
              "      <td>24.0</td>\n",
              "      <td>False</td>\n",
              "      <td>False</td>\n",
              "      <td>False</td>\n",
              "      <td>False</td>\n",
              "      <td>False</td>\n",
              "      <td>False</td>\n",
              "      <td>0.0</td>\n",
              "      <td>64.0</td>\n",
              "      <td>0.0</td>\n",
              "      <td>0.0</td>\n",
              "      <td>0.0</td>\n",
              "      <td>24.0</td>\n",
              "      <td>False</td>\n",
              "      <td>False</td>\n",
              "      <td>False</td>\n",
              "      <td>False</td>\n",
              "      <td>False</td>\n",
              "      <td>False</td>\n",
              "      <td>32.0</td>\n",
              "      <td>...</td>\n",
              "      <td>0.0</td>\n",
              "      <td>5.8</td>\n",
              "      <td>-7.7</td>\n",
              "      <td>0.0</td>\n",
              "      <td>0.0</td>\n",
              "      <td>0.9</td>\n",
              "      <td>3.8</td>\n",
              "      <td>-5.7</td>\n",
              "      <td>27.7</td>\n",
              "      <td>-0.2</td>\n",
              "      <td>0.0</td>\n",
              "      <td>9.5</td>\n",
              "      <td>-5.0</td>\n",
              "      <td>0.0</td>\n",
              "      <td>0.0</td>\n",
              "      <td>0.5</td>\n",
              "      <td>2.6</td>\n",
              "      <td>11.8</td>\n",
              "      <td>34.6</td>\n",
              "      <td>-0.4</td>\n",
              "      <td>0.0</td>\n",
              "      <td>11.0</td>\n",
              "      <td>-2.4</td>\n",
              "      <td>0.0</td>\n",
              "      <td>0.0</td>\n",
              "      <td>0.4</td>\n",
              "      <td>2.6</td>\n",
              "      <td>21.6</td>\n",
              "      <td>43.4</td>\n",
              "      <td>-0.5</td>\n",
              "      <td>0.0</td>\n",
              "      <td>8.5</td>\n",
              "      <td>0.0</td>\n",
              "      <td>0.0</td>\n",
              "      <td>0.0</td>\n",
              "      <td>0.2</td>\n",
              "      <td>2.1</td>\n",
              "      <td>20.4</td>\n",
              "      <td>38.8</td>\n",
              "      <td>6</td>\n",
              "    </tr>\n",
              "    <tr>\n",
              "      <th>2</th>\n",
              "      <td>54.0</td>\n",
              "      <td>False</td>\n",
              "      <td>172.0</td>\n",
              "      <td>95.0</td>\n",
              "      <td>138.0</td>\n",
              "      <td>163.0</td>\n",
              "      <td>386.0</td>\n",
              "      <td>185.0</td>\n",
              "      <td>102.0</td>\n",
              "      <td>96.0</td>\n",
              "      <td>34.0</td>\n",
              "      <td>70.0</td>\n",
              "      <td>66.0</td>\n",
              "      <td>23.0</td>\n",
              "      <td>75.0</td>\n",
              "      <td>0.0</td>\n",
              "      <td>40.0</td>\n",
              "      <td>80.0</td>\n",
              "      <td>0.0</td>\n",
              "      <td>0.0</td>\n",
              "      <td>24.0</td>\n",
              "      <td>False</td>\n",
              "      <td>False</td>\n",
              "      <td>False</td>\n",
              "      <td>False</td>\n",
              "      <td>False</td>\n",
              "      <td>False</td>\n",
              "      <td>20.0</td>\n",
              "      <td>56.0</td>\n",
              "      <td>52.0</td>\n",
              "      <td>0.0</td>\n",
              "      <td>0.0</td>\n",
              "      <td>40.0</td>\n",
              "      <td>False</td>\n",
              "      <td>False</td>\n",
              "      <td>False</td>\n",
              "      <td>False</td>\n",
              "      <td>False</td>\n",
              "      <td>False</td>\n",
              "      <td>28.0</td>\n",
              "      <td>...</td>\n",
              "      <td>0.0</td>\n",
              "      <td>5.8</td>\n",
              "      <td>-4.1</td>\n",
              "      <td>4.0</td>\n",
              "      <td>-0.5</td>\n",
              "      <td>0.4</td>\n",
              "      <td>0.3</td>\n",
              "      <td>20.4</td>\n",
              "      <td>23.3</td>\n",
              "      <td>0.7</td>\n",
              "      <td>0.0</td>\n",
              "      <td>10.0</td>\n",
              "      <td>-5.7</td>\n",
              "      <td>0.0</td>\n",
              "      <td>0.0</td>\n",
              "      <td>0.5</td>\n",
              "      <td>2.2</td>\n",
              "      <td>-3.0</td>\n",
              "      <td>20.7</td>\n",
              "      <td>1.3</td>\n",
              "      <td>0.0</td>\n",
              "      <td>11.1</td>\n",
              "      <td>-3.4</td>\n",
              "      <td>0.0</td>\n",
              "      <td>0.0</td>\n",
              "      <td>0.4</td>\n",
              "      <td>3.4</td>\n",
              "      <td>11.5</td>\n",
              "      <td>48.2</td>\n",
              "      <td>0.9</td>\n",
              "      <td>0.0</td>\n",
              "      <td>9.5</td>\n",
              "      <td>-2.4</td>\n",
              "      <td>0.0</td>\n",
              "      <td>0.0</td>\n",
              "      <td>0.3</td>\n",
              "      <td>3.4</td>\n",
              "      <td>12.3</td>\n",
              "      <td>49.0</td>\n",
              "      <td>10</td>\n",
              "    </tr>\n",
              "    <tr>\n",
              "      <th>3</th>\n",
              "      <td>55.0</td>\n",
              "      <td>False</td>\n",
              "      <td>175.0</td>\n",
              "      <td>94.0</td>\n",
              "      <td>100.0</td>\n",
              "      <td>202.0</td>\n",
              "      <td>380.0</td>\n",
              "      <td>179.0</td>\n",
              "      <td>143.0</td>\n",
              "      <td>28.0</td>\n",
              "      <td>11.0</td>\n",
              "      <td>-5.0</td>\n",
              "      <td>20.0</td>\n",
              "      <td>NaN</td>\n",
              "      <td>71.0</td>\n",
              "      <td>0.0</td>\n",
              "      <td>72.0</td>\n",
              "      <td>20.0</td>\n",
              "      <td>0.0</td>\n",
              "      <td>0.0</td>\n",
              "      <td>48.0</td>\n",
              "      <td>False</td>\n",
              "      <td>False</td>\n",
              "      <td>False</td>\n",
              "      <td>False</td>\n",
              "      <td>False</td>\n",
              "      <td>False</td>\n",
              "      <td>0.0</td>\n",
              "      <td>64.0</td>\n",
              "      <td>36.0</td>\n",
              "      <td>0.0</td>\n",
              "      <td>0.0</td>\n",
              "      <td>36.0</td>\n",
              "      <td>False</td>\n",
              "      <td>False</td>\n",
              "      <td>False</td>\n",
              "      <td>False</td>\n",
              "      <td>False</td>\n",
              "      <td>False</td>\n",
              "      <td>20.0</td>\n",
              "      <td>...</td>\n",
              "      <td>0.0</td>\n",
              "      <td>9.0</td>\n",
              "      <td>-7.9</td>\n",
              "      <td>0.0</td>\n",
              "      <td>0.0</td>\n",
              "      <td>0.1</td>\n",
              "      <td>4.1</td>\n",
              "      <td>7.6</td>\n",
              "      <td>51.0</td>\n",
              "      <td>0.4</td>\n",
              "      <td>0.0</td>\n",
              "      <td>15.0</td>\n",
              "      <td>-5.5</td>\n",
              "      <td>0.0</td>\n",
              "      <td>0.0</td>\n",
              "      <td>0.1</td>\n",
              "      <td>3.3</td>\n",
              "      <td>28.8</td>\n",
              "      <td>63.1</td>\n",
              "      <td>0.1</td>\n",
              "      <td>0.0</td>\n",
              "      <td>15.2</td>\n",
              "      <td>-3.7</td>\n",
              "      <td>0.0</td>\n",
              "      <td>0.0</td>\n",
              "      <td>0.6</td>\n",
              "      <td>3.0</td>\n",
              "      <td>36.8</td>\n",
              "      <td>68.0</td>\n",
              "      <td>0.1</td>\n",
              "      <td>0.0</td>\n",
              "      <td>12.2</td>\n",
              "      <td>-2.2</td>\n",
              "      <td>0.0</td>\n",
              "      <td>0.0</td>\n",
              "      <td>0.4</td>\n",
              "      <td>2.6</td>\n",
              "      <td>34.6</td>\n",
              "      <td>61.6</td>\n",
              "      <td>1</td>\n",
              "    </tr>\n",
              "    <tr>\n",
              "      <th>4</th>\n",
              "      <td>75.0</td>\n",
              "      <td>False</td>\n",
              "      <td>190.0</td>\n",
              "      <td>80.0</td>\n",
              "      <td>88.0</td>\n",
              "      <td>181.0</td>\n",
              "      <td>360.0</td>\n",
              "      <td>177.0</td>\n",
              "      <td>103.0</td>\n",
              "      <td>-16.0</td>\n",
              "      <td>13.0</td>\n",
              "      <td>61.0</td>\n",
              "      <td>3.0</td>\n",
              "      <td>NaN</td>\n",
              "      <td>NaN</td>\n",
              "      <td>0.0</td>\n",
              "      <td>48.0</td>\n",
              "      <td>40.0</td>\n",
              "      <td>0.0</td>\n",
              "      <td>0.0</td>\n",
              "      <td>28.0</td>\n",
              "      <td>False</td>\n",
              "      <td>False</td>\n",
              "      <td>False</td>\n",
              "      <td>False</td>\n",
              "      <td>False</td>\n",
              "      <td>False</td>\n",
              "      <td>0.0</td>\n",
              "      <td>40.0</td>\n",
              "      <td>24.0</td>\n",
              "      <td>0.0</td>\n",
              "      <td>0.0</td>\n",
              "      <td>24.0</td>\n",
              "      <td>False</td>\n",
              "      <td>False</td>\n",
              "      <td>False</td>\n",
              "      <td>False</td>\n",
              "      <td>False</td>\n",
              "      <td>False</td>\n",
              "      <td>52.0</td>\n",
              "      <td>...</td>\n",
              "      <td>0.0</td>\n",
              "      <td>8.5</td>\n",
              "      <td>-10.2</td>\n",
              "      <td>0.0</td>\n",
              "      <td>0.0</td>\n",
              "      <td>-1.0</td>\n",
              "      <td>4.7</td>\n",
              "      <td>-4.0</td>\n",
              "      <td>43.0</td>\n",
              "      <td>-0.2</td>\n",
              "      <td>0.0</td>\n",
              "      <td>15.2</td>\n",
              "      <td>-7.8</td>\n",
              "      <td>0.0</td>\n",
              "      <td>0.0</td>\n",
              "      <td>-0.1</td>\n",
              "      <td>4.9</td>\n",
              "      <td>16.2</td>\n",
              "      <td>63.2</td>\n",
              "      <td>-0.2</td>\n",
              "      <td>0.0</td>\n",
              "      <td>9.1</td>\n",
              "      <td>-0.9</td>\n",
              "      <td>0.0</td>\n",
              "      <td>0.0</td>\n",
              "      <td>-0.2</td>\n",
              "      <td>2.9</td>\n",
              "      <td>21.7</td>\n",
              "      <td>48.9</td>\n",
              "      <td>-0.4</td>\n",
              "      <td>0.0</td>\n",
              "      <td>13.1</td>\n",
              "      <td>-3.6</td>\n",
              "      <td>0.0</td>\n",
              "      <td>0.0</td>\n",
              "      <td>-0.1</td>\n",
              "      <td>3.9</td>\n",
              "      <td>25.4</td>\n",
              "      <td>62.8</td>\n",
              "      <td>7</td>\n",
              "    </tr>\n",
              "  </tbody>\n",
              "</table>\n",
              "<p>5 rows × 280 columns</p>\n",
              "</div>"
            ],
            "text/plain": [
              "    age    sex  height  weight  ...  v6_amp_t  v6_qrsa  v6_qrsta  class\n",
              "0  75.0  False   190.0    80.0  ...       2.9     23.3      49.4      8\n",
              "1  56.0   True   165.0    64.0  ...       2.1     20.4      38.8      6\n",
              "2  54.0  False   172.0    95.0  ...       3.4     12.3      49.0     10\n",
              "3  55.0  False   175.0    94.0  ...       2.6     34.6      61.6      1\n",
              "4  75.0  False   190.0    80.0  ...       3.9     25.4      62.8      7\n",
              "\n",
              "[5 rows x 280 columns]"
            ]
          },
          "metadata": {},
          "execution_count": 4
        }
      ]
    },
    {
      "cell_type": "markdown",
      "metadata": {
        "id": "sd_dFM24ziL4"
      },
      "source": [
        "## Remove columns for features with missing values\n",
        "Missing values occur frequently in real data such as this.  For now we will remove input columns which have missing data but handling them properly can be critical in practice."
      ]
    },
    {
      "cell_type": "code",
      "metadata": {
        "colab": {
          "base_uri": "https://localhost:8080/"
        },
        "id": "AyecDruXqun4",
        "outputId": "17bab99c-c959-4df6-f31b-52c39d4c770c"
      },
      "source": [
        "missing_cols = []\n",
        "for c in data.columns:\n",
        "  if np.any(pd.isnull(data[c])):\n",
        "    missing_cols.append(c)\n",
        "\n",
        "print(\"Removing \" + str(missing_cols))\n",
        "clean_data = data.drop(columns=missing_cols)\n",
        "num_data = len(clean_data)\n",
        "print(\"There are {} input dimensions\".format(clean_data.shape[1]-1))"
      ],
      "execution_count": 5,
      "outputs": [
        {
          "output_type": "stream",
          "name": "stdout",
          "text": [
            "Removing ['t', 'p', 'qrst', 'j', 'heart_rate']\n",
            "There are 274 input dimensions\n"
          ]
        }
      ]
    },
    {
      "cell_type": "markdown",
      "metadata": {
        "id": "6o5Pqlmz2b-H"
      },
      "source": [
        "# Step 1: Data Exploration\n",
        "A critical step in any ML application is dataset exploration.  You should always be familiar with your data.  How many inputs do you have?  What kinds are they?  If you do simple visualizations, can you get a sense of whether the prediction problem is possible."
      ]
    },
    {
      "cell_type": "markdown",
      "metadata": {
        "id": "XFfFNP0O_1rq"
      },
      "source": [
        "## Produce histograms\n",
        "Produce histograms of some of the inputs to visualize the distribution of different input dimensions and their potential impact on the class label."
      ]
    },
    {
      "cell_type": "code",
      "metadata": {
        "colab": {
          "base_uri": "https://localhost:8080/",
          "height": 1000
        },
        "id": "yEdytFVi2o4E",
        "outputId": "fadea245-d461-47f5-dacb-3dbb2de3099a"
      },
      "source": [
        "vis_dims = ['age','sex','height','weight','qrs_dur','pr_inter','qt_inter','t_inter','p_inter']\n",
        "\n",
        "for c in vis_dims:\n",
        "  plt.figure()\n",
        "  coltype = clean_data.dtypes[c]\n",
        "  coldata = clean_data[c].astype(np.float32)\n",
        "  plt.title('column {}'.format(c))\n",
        "  plt.hist([coldata[clean_data['class'] == 1],\n",
        "            coldata[clean_data['class'] != 1]],\n",
        "           density=True, # normalize the histograms\n",
        "           label=['Normal','Other'])\n",
        "  plt.legend()\n"
      ],
      "execution_count": 6,
      "outputs": [
        {
          "output_type": "display_data",
          "data": {
            "image/png": "[encoded data removed]",
            "text/plain": [
              "<Figure size 432x288 with 1 Axes>"
            ]
          },
          "metadata": {
            "needs_background": "light"
          }
        },
        {
          "output_type": "display_data",
          "data": {
            "image/png": "[encoded data removed]",
            "text/plain": [
              "<Figure size 432x288 with 1 Axes>"
            ]
          },
          "metadata": {
            "needs_background": "light"
          }
        },
        {
          "output_type": "display_data",
          "data": {
            "image/png": "[encoded data removed]",
            "text/plain": [
              "<Figure size 432x288 with 1 Axes>"
            ]
          },
          "metadata": {
            "needs_background": "light"
          }
        },
        {
          "output_type": "display_data",
          "data": {
            "image/png": "[encoded data removed]",
            "text/plain": [
              "<Figure size 432x288 with 1 Axes>"
            ]
          },
          "metadata": {
            "needs_background": "light"
          }
        },
        {
          "output_type": "display_data",
          "data": {
            "image/png": "[encoded data removed]",
            "text/plain": [
              "<Figure size 432x288 with 1 Axes>"
            ]
          },
          "metadata": {
            "needs_background": "light"
          }
        },
        {
          "output_type": "display_data",
          "data": {
            "image/png": "[encoded data removed]",
            "text/plain": [
              "<Figure size 432x288 with 1 Axes>"
            ]
          },
          "metadata": {
            "needs_background": "light"
          }
        },
        {
          "output_type": "display_data",
          "data": {
            "image/png": "[encoded data removed]",
            "text/plain": [
              "<Figure size 432x288 with 1 Axes>"
            ]
          },
          "metadata": {
            "needs_background": "light"
          }
        },
        {
          "output_type": "display_data",
          "data": {
            "image/png": "[encoded data removed]",
            "text/plain": [
              "<Figure size 432x288 with 1 Axes>"
            ]
          },
          "metadata": {
            "needs_background": "light"
          }
        },
        {
          "output_type": "display_data",
          "data": {
            "image/png": "[encoded data removed]",
            "text/plain": [
              "<Figure size 432x288 with 1 Axes>"
            ]
          },
          "metadata": {
            "needs_background": "light"
          }
        }
      ]
    },
    {
      "cell_type": "markdown",
      "metadata": {
        "id": "d3KZ7hFh87FV"
      },
      "source": [
        "## Split data into training and validation\n",
        "Randomly select a subset of the data to use for training and the rest for validation.  For educational purposes we are going to use a small fraction of the dataset for training (5%) in order to more easily see the value of regularization.  In a real world setting you would typically use something like 80% or 90% for training."
      ]
    },
    {
      "cell_type": "code",
      "metadata": {
        "colab": {
          "base_uri": "https://localhost:8080/"
        },
        "id": "qQBAsUGMzMKn",
        "outputId": "4a70a53e-35eb-4b48-cfef-6c976b8022ed"
      },
      "source": [
        "def split_dataset(input_data,pct_train,seed=0):\n",
        "  num_data = len(input_data)\n",
        "  # Set a fixed random seed to ensure repeatability\n",
        "  np.random.seed(seed)\n",
        "  perm = np.random.permutation(num_data)\n",
        "\n",
        "  num_train = int(pct_train*num_data)\n",
        "  num_val = num_data - num_train\n",
        "\n",
        "  data_train = input_data.iloc[perm[0:num_train]].reset_index(drop=True)\n",
        "  data_val = input_data.iloc[perm[num_train:]].reset_index(drop=True)\n",
        "\n",
        "  print(\"Using {} samples for training data and {} samples for validation\".format(num_train,num_val))\n",
        "\n",
        "  # Split output from inputs\n",
        "  train_x = data_train.drop(columns=['class'])\n",
        "  train_y = data_train['class'] == 1 # Classify normal vs abnormal\n",
        "\n",
        "  val_x = data_val.drop(columns=['class'])\n",
        "  val_y = data_val['class'] == 1 # Classify normal vs abnormal\n",
        "\n",
        "  return train_x, train_y, val_x, val_y\n",
        "\n",
        "data_train_x, data_train_y, data_val_x, data_val_y = split_dataset(clean_data,pct_train = 0.05,seed=0)\n",
        "\n"
      ],
      "execution_count": 7,
      "outputs": [
        {
          "output_type": "stream",
          "name": "stdout",
          "text": [
            "Using 22 samples for training data and 430 samples for validation\n",
            "     age    sex  height  weight  ...  v6_amp_p  v6_amp_t  v6_qrsa  v6_qrsta\n",
            "0   37.0   True   159.0    56.0  ...       0.4       1.2      9.4      16.6\n",
            "1   52.0  False   165.0    80.0  ...       0.4      -0.3     19.6      17.7\n",
            "2   12.0   True   165.0    47.0  ...      -0.4       1.6     24.0      38.0\n",
            "3   80.0  False   160.0    70.0  ...       0.9       0.4     26.7      30.3\n",
            "4   72.0  False   171.0    74.0  ...       0.7       0.8     25.8      31.4\n",
            "5   41.0   True   155.0    56.0  ...       0.6       2.9     12.8      38.9\n",
            "6   54.0   True   172.0    58.0  ...       0.8       0.5      8.8      12.1\n",
            "7   44.0  False   170.0    84.0  ...       0.5      -6.0     86.4       8.4\n",
            "8   51.0   True   165.0    85.0  ...       0.5       1.0     31.3      37.5\n",
            "9   45.0  False   177.0    72.0  ...       0.6      -2.2     -8.3     -38.6\n",
            "10  57.0  False   165.0    74.0  ...       0.9       0.6     17.1      22.0\n",
            "11  60.0   True   160.0    83.0  ...       0.8       0.5     19.6      21.8\n",
            "12  53.0   True   160.0    70.0  ...       0.7       0.6     -4.4      -0.5\n",
            "13  40.0   True   165.0    53.0  ...       0.5       2.1     22.7      37.8\n",
            "14  53.0   True   156.0    65.0  ...       0.1      -0.8     22.6      10.8\n",
            "15  45.0  False   169.0    67.0  ...       0.8       1.1     11.7      19.6\n",
            "16  24.0   True   162.0    75.0  ...       0.7       1.2      7.4      15.5\n",
            "17  56.0   True   165.0    64.0  ...       0.2       2.1     20.4      38.8\n",
            "18  62.0  False   170.0    72.0  ...       0.8       0.9     12.3      19.3\n",
            "19  46.0  False   170.0    80.0  ...       0.5       0.5     -0.9       5.7\n",
            "20  59.0  False   160.0    52.0  ...       0.5      -1.2     31.6      18.0\n",
            "21  56.0   True   162.0    64.0  ...       0.3      -0.6     13.7       6.3\n",
            "\n",
            "[22 rows x 274 columns]\n"
          ]
        }
      ]
    },
    {
      "cell_type": "markdown",
      "metadata": {
        "id": "fYKS_bHP_9HL"
      },
      "source": [
        "## Compute and print basic statistics\n",
        "\n",
        "**YOU MUST IMPLEMENT AND ANSWER THINGS HERE**\n",
        "\n",
        "Write code which computes and prints:\n",
        "1. The fraction of training data for people under the age of 20 \n",
        "2. The fraction of training data for people over the age of 50\n",
        "3. The fraction of training data which are indicated as normal (i.e., with the value in the 'class' column being 1)\n",
        "\n",
        "Answer the following questions in your report:\n",
        "1. Does this seem like a good distribution of ages for the dataset?  Would you feel comfortable relying on the output of the resulting model if you were under 20?  What if you were over 50?  Why?\n",
        "2. If you were to build a model which always spit out the same label (either normal or not), based on this training data what label should it output?  What do you think the accuracy of that model would be?  Why?\n",
        "3. Based on the histograms above, hard hard do you think this prediction task is and why?  Should we expect to get perfect?  Should we be able to do better than chance?  Include copies of any figures you reference in your answer to this question."
      ]
    },
    {
      "cell_type": "code",
      "metadata": {
        "colab": {
          "base_uri": "https://localhost:8080/"
        },
        "id": "7vEDZs5eAH8F",
        "outputId": "b997d007-28ff-4be0-e9c5-8a6f117b81db"
      },
      "source": [
        "num_train = data_train_x.shape[0]\n",
        "\n",
        "frac_u20 = np.sum(data_train_x['age'] < 20)/num_train\n",
        "print('Fraction of dataset with age < 20: {}'.format(frac_u20))\n",
        "\n",
        "frac_o50 = np.sum(data_train_x['age'] > 50)/num_train\n",
        "print('Fraction of dataset with age < 50: {}'.format(frac_o50))\n",
        "\n",
        "frac_female = np.sum(data_train_x['sex'] == 1)/num_train\n",
        "print('Fraction of dataset indicated as female: {}'.format(frac_female))\n",
        "\n",
        "frac_normal = np.sum(data_train_y == 1)/num_train\n",
        "print('Fraction of dataset indicated as normal record: {}'.format(frac_normal))"
      ],
      "execution_count": 8,
      "outputs": [
        {
          "output_type": "stream",
          "name": "stdout",
          "text": [
            "Fraction of dataset with age < 20: 0.045454545454545456\n",
            "Fraction of dataset with age < 50: 0.5909090909090909\n",
            "Fraction of dataset indicated as female: 0.5454545454545454\n",
            "Fraction of dataset indicated as normal record: 0.36363636363636365\n"
          ]
        }
      ]
    },
    {
      "cell_type": "markdown",
      "metadata": {
        "id": "TrchgB2p8hUv"
      },
      "source": [
        "# Step 2: Implement a Naive Bayes classifier"
      ]
    },
    {
      "cell_type": "markdown",
      "metadata": {
        "id": "hPwBtdib-oTn"
      },
      "source": [
        "## Code for a Naive Bayes model\n",
        "\n",
        "This is the part which implements the mathematical model for our dataset.  For learning, this involves estimating the parameters of the appropriate distributions for each feature conditional on the output class label.  In order to make predictions, we also need to be able to evaluate the (log) probability of each distribution.\n",
        "\n",
        "**YOU MUST IMPLEMENT THINGS HERE**"
      ]
    },
    {
      "cell_type": "code",
      "metadata": {
        "id": "3NtvFNYf9VLJ"
      },
      "source": [
        "def bernoulli_logpdf(x,theta):\n",
        "  lp = np.zeros_like(x,dtype=np.float64)\n",
        "  if theta == 0:\n",
        "    lp[x==True] = -np.inf\n",
        "  elif theta == 1:\n",
        "    lp[x==False] = -np.inf\n",
        "  else:\n",
        "    lp[x==True] = np.log(theta)\n",
        "    lp[x==False] = np.log1p(-theta)\n",
        "  return lp\n",
        "\n",
        "def gaussian_logpdf(x,mu,sigma):\n",
        "  assert np.isfinite(mu)\n",
        "  assert np.all(np.isfinite(x))\n",
        "  ##### THE NEXT LINE IS NEW\n",
        "  sigma = np.maximum(1e-16,sigma) # Avoid having to handle sigma=0 cases\n",
        "  \n",
        "  # TODO: Implement the logpdf of a Gaussian distribution\n",
        "  lp = np.log(1/(sigma*math.sqrt(2*math.pi))) - 0.5*(((x-mu)/sigma)**2)\n",
        "\n",
        "\n",
        "  return lp\n",
        "\n",
        "def fit_bernoulli(x,prior_alpha):\n",
        "  # TODO: Compute MAP estimate of theta\n",
        "  lp = np.zeros_like(x,dtype=np.float64)\n",
        "  theta = (len(lp[x==True])+prior_alpha)/(len(x)+2*prior_alpha)\n",
        "  return {'logprob':bernoulli_logpdf, 'params':{'theta':theta}}\n",
        "\n",
        "def fit_gaussian(x,prior_mu_val,prior_sigma_val,prior_dof):\n",
        "  numx = len(x)\n",
        "  assert numx>2\n",
        "  # TODO: Compute MAP estimate of mu and sigma\n",
        " \n",
        "  mu = (np.mean(x)*len(x))/(len(x)+prior_dof)\n",
        "  sigma = math.sqrt(((np.std(x)**2)*len(x) + prior_dof)/(len(x)+prior_dof))\n",
        "  return {'logprob':gaussian_logpdf, 'params':{'mu':mu,'sigma':sigma} }\n",
        "\n",
        "def fit_naivebayes(x,y,prior_dof=0,prior_mu_val=0,prior_sigma_val=1):\n",
        "  y_vals = [False, True]\n",
        "  prior_dist = fit_bernoulli(y,prior_alpha=prior_dof)\n",
        "  cond_dists = dict([ (yv,{}) for yv in y_vals ])\n",
        "  for c in x.columns:\n",
        "    coltype = x.dtypes[c]\n",
        "    coldata = x[c]\n",
        "    x_y0 = coldata[y == False]\n",
        "    x_y1 = coldata[y == True]\n",
        "    if coltype == 'float64' or coltype == 'float32':\n",
        "      # fit gaussian\n",
        "      fit_func = lambda cx: fit_gaussian(cx,prior_mu_val,prior_sigma_val,prior_dof)\n",
        "    elif coltype == 'bool':\n",
        "      # fit bernoulli\n",
        "      fit_func = lambda cx: fit_bernoulli(cx,prior_alpha=prior_dof)\n",
        "    for yv in y_vals:\n",
        "      cond_dists[yv][c] = fit_func(coldata[y == yv])\n",
        "\n",
        "  model = { 'prior':prior_dist,\n",
        "            'conds':cond_dists,\n",
        "            'y_vals':y_vals }\n",
        "  return model\n",
        "\n",
        "def eval_naivebayes(nbmodel,x,normalize=True):\n",
        "  numx = x.shape[0]\n",
        "  numyv = len(nbmodel['y_vals'])\n",
        "  yv_lp = {}\n",
        "  yv_all_lps = np.zeros((numyv,numx))\n",
        "  for i,yv in enumerate(nbmodel['y_vals']):\n",
        "    yv_lp[yv] = np.zeros(numx)\n",
        "    yv_lp[yv] += nbmodel['prior']['logprob'](yv,**nbmodel['prior']['params'])\n",
        "    for c,m in nbmodel['conds'][yv].items():\n",
        "      clp = m['logprob'](x[c],**m['params'])\n",
        "      yv_lp[yv] += clp\n",
        "    yv_all_lps[i,:] = yv_lp[yv]\n",
        "\n",
        "  if normalize:\n",
        "    yv_lp_nrm = spsp.logsumexp(yv_all_lps,axis=0)\n",
        "    ninf_yv_lp_nrm = np.isinf(yv_lp_nrm)\n",
        "\n",
        "    for yv in nbmodel['y_vals']:\n",
        "      curr_false = np.logical_and(np.isinf(yv_lp[yv]),ninf_yv_lp_nrm)\n",
        "      yv_lp[yv] -= yv_lp_nrm\n",
        "      yv_lp[yv][curr_false] = -np.inf\n",
        "\n",
        "  return pd.DataFrame(yv_lp)\n",
        "\n",
        "# Compare the predicted log probability values (yv_lp_xs) against their true labels (gt_ys)\n",
        "def compare_predictions(gt_ys,yv_lp):\n",
        "  assert yv_lp.shape[1] == 2 # this code only works for binary models\n",
        "  \n",
        "  # Lookup the log probability of the correct class\n",
        "  correct_lps = yv_lp.lookup(range(len(gt_ys)),gt_ys)\n",
        "\n",
        "  # TODO: Implement the calculations for these values which are used to compute stats\n",
        "\n",
        "  # TODO: Total number of ys in the evaluation set\n",
        "  num_ys = len(gt_ys)\n",
        "\n",
        "  # TODO: Number of ys with the correct label having highest probability\n",
        "  avg_logprob = 0\n",
        "  num_correct = 0\n",
        "  num_true_pos = 0\n",
        "  num_true_neg = 0\n",
        "  \n",
        "  for i in range(len(gt_ys)):\n",
        "\n",
        "    if yv_lp[gt_ys[i]][i] > yv_lp[not gt_ys[i]][i]:\n",
        "      num_correct = num_correct + 1\n",
        "      avg_logprob = avg_logprob + yv_lp[gt_ys[i]][i]\n",
        "      if gt_ys[i] == True:\n",
        "        num_true_pos = num_true_pos+1\n",
        "      else:\n",
        "        num_true_neg = num_true_neg+1\n",
        "\n",
        "\n",
        "  # TODO: Number of ys where y == 1\n",
        "  # TODO: Number of ys where y == 0\n",
        "  num_pos_ys = 0\n",
        "  num_neg_ys = 0\n",
        "  for i in range(len(gt_ys)):\n",
        "    if gt_ys[i] ==True:\n",
        "      num_pos_ys = num_pos_ys+1\n",
        "    else:\n",
        "      num_neg_ys = num_neg_ys +1\n",
        "\n",
        "\n",
        "  # TODO: Average log probability of the correct class\n",
        "  avg_logprob = avg_logprob/num_correct\n",
        "\n",
        "  stats = {}\n",
        "  stats['true_pos_rate'] = num_true_pos/num_pos_ys\n",
        "  stats['true_neg_rate'] = num_true_neg/num_neg_ys\n",
        "  stats['correct_lps'] = correct_lps\n",
        "  stats['pct_correct'] = num_correct / num_ys\n",
        "  stats['avg_logprob'] = avg_logprob\n",
        "\n",
        "  \n",
        "  return stats\n"
      ],
      "execution_count": 9,
      "outputs": []
    },
    {
      "cell_type": "markdown",
      "metadata": {
        "id": "EoDmX-4F4LAF"
      },
      "source": [
        "## Fit the parameters of Naive Bayes with maximum likelihood and maximum a posteriori estimates\n",
        "\n",
        "See what happens when using maximum likelihood estimates (i.e., `prior_dof=0`)."
      ]
    },
    {
      "cell_type": "code",
      "metadata": {
        "id": "pCNcMWJa88sO"
      },
      "source": [
        "nbmodel_ML = fit_naivebayes(data_train_x,data_train_y,prior_dof=0)\n"
      ],
      "execution_count": 10,
      "outputs": []
    },
    {
      "cell_type": "markdown",
      "metadata": {
        "id": "yQfsgvA-9AoT"
      },
      "source": [
        "### Evaluate the ML-fit model on the training data"
      ]
    },
    {
      "cell_type": "code",
      "metadata": {
        "colab": {
          "base_uri": "https://localhost:8080/",
          "height": 349
        },
        "id": "8SyjcF4w_XHP",
        "outputId": "5620c909-3142-4376-cd3b-8eab50f75921"
      },
      "source": [
        "\n",
        "data_train_lp = eval_naivebayes(nbmodel_ML,data_train_x)\n",
        "train_stats = compare_predictions(data_train_y,data_train_lp)\n",
        "\n",
        "plt.figure()\n",
        "plt.title('Training Set Probability of Correct Class')\n",
        "plt.hist(np.exp(train_stats['correct_lps']))\n",
        "print('Training Set Prediction Statistics')\n",
        "print('  Accuracy: {}'.format(train_stats['pct_correct']))\n",
        "print('  True Positive Rate: {}'.format(train_stats['true_pos_rate']))\n",
        "print('  True Negative Rate: {}'.format(train_stats['true_neg_rate']))\n",
        "\n"
      ],
      "execution_count": 11,
      "outputs": [
        {
          "output_type": "stream",
          "name": "stdout",
          "text": [
            "Training Set Prediction Statistics\n",
            "  Accuracy: 0.8636363636363636\n",
            "  True Positive Rate: 1.0\n",
            "  True Negative Rate: 0.7857142857142857\n"
          ]
        },
        {
          "output_type": "display_data",
          "data": {
            "image/png": "[encoded data removed]",
            "text/plain": [
              "<Figure size 432x288 with 1 Axes>"
            ]
          },
          "metadata": {
            "needs_background": "light"
          }
        }
      ]
    },
    {
      "cell_type": "markdown",
      "metadata": {
        "id": "8kTylEqh81HE"
      },
      "source": [
        "### Evaluate the ML-fit model on the validation set"
      ]
    },
    {
      "cell_type": "code",
      "metadata": {
        "colab": {
          "base_uri": "https://localhost:8080/",
          "height": 349
        },
        "id": "LSUAApfn8yCB",
        "outputId": "53f3e416-3485-4a38-b4d9-47987b3cae91"
      },
      "source": [
        "data_val_lp = eval_naivebayes(nbmodel_ML,data_val_x)\n",
        "val_stats = compare_predictions(data_val_y,data_val_lp)\n",
        "\n",
        "plt.figure()\n",
        "plt.title('Validation Set Probability of Correct Class')\n",
        "plt.hist(np.exp(val_stats['correct_lps']))\n",
        "print('Validation Set Prediction Statistics')\n",
        "print('  Accuracy: {}'.format(val_stats['pct_correct']))\n",
        "print('  True Positive Rate: {}'.format(val_stats['true_pos_rate']))\n",
        "print('  True Negative Rate: {}'.format(val_stats['true_neg_rate']))\n",
        "\n"
      ],
      "execution_count": 12,
      "outputs": [
        {
          "output_type": "stream",
          "name": "stdout",
          "text": [
            "Validation Set Prediction Statistics\n",
            "  Accuracy: 0.5232558139534884\n",
            "  True Positive Rate: 0.620253164556962\n",
            "  True Negative Rate: 0.40414507772020725\n"
          ]
        },
        {
          "output_type": "display_data",
          "data": {
            "image/png": "[encoded data removed]",
            "text/plain": [
              "<Figure size 432x288 with 1 Axes>"
            ]
          },
          "metadata": {
            "needs_background": "light"
          }
        }
      ]
    },
    {
      "cell_type": "markdown",
      "metadata": {
        "id": "hmI490M45F7T"
      },
      "source": [
        "## Explore different prior strengths\n",
        "\n",
        "Fit Naive Bayes models with different values of `prior_dof`.  For each value, fit a model and evaluate it on both the training and validation set\n",
        "\n",
        "\n",
        "**YOU NEED TO IMPLEMENT THINGS HERE**"
      ]
    },
    {
      "cell_type": "code",
      "metadata": {
        "colab": {
          "base_uri": "https://localhost:8080/",
          "height": 316
        },
        "id": "mA8xfdybONtn",
        "outputId": "c8e66bde-ed8c-4835-ae8d-46f0f1623be2"
      },
      "source": [
        "dofs = [0,0.1,0.25,0.5,0.75,1] + list(range(2,9,2)) + [ 2**d for d in range(4,5) ]\n",
        "print(dofs)\n",
        "print('Fitting models...',end=\"\")\n",
        "# TODO: Implement this\n",
        "all_nbmodels=[]\n",
        "for i in range(len(dofs)):\n",
        "  all_nbmodels.append(fit_naivebayes(data_train_x,data_train_y,prior_dof=dofs[i]))\n",
        "print('done.')\n",
        "\n",
        "print('Evaluating models...',end=\"\")\n",
        "\n",
        "data_train_lp = []\n",
        "all_train_stats = []\n",
        "# TODO: Implement this\n",
        "for i in range(len(all_nbmodels)):\n",
        "  data_train_lp.append(eval_naivebayes(all_nbmodels[i],data_train_x))\n",
        "for i in range(len(data_train_lp)):\n",
        "  all_train_stats.append(compare_predictions(data_train_y,data_train_lp[i]))\n",
        "\n",
        "\n",
        "data_val_lp = []\n",
        "all_val_stats = []\n",
        "\n",
        "for i in range(len(all_nbmodels)):\n",
        "  data_val_lp.append(eval_naivebayes(all_nbmodels[i],data_val_x))\n",
        "for i in range(len(data_val_lp)):\n",
        "  all_val_stats.append(compare_predictions(data_val_y,data_val_lp[i]))\n",
        "\n",
        "print('done.')\n",
        "\n",
        "all_val_train_acc = [ stats['pct_correct'] for stats in all_train_stats ]\n",
        "all_val_val_acc = [ stats['pct_correct'] for stats in all_val_stats ]\n",
        "plt.figure()\n",
        "plt.plot(dofs,all_val_train_acc,label='Train')\n",
        "plt.plot(dofs,all_val_val_acc,label='Val')\n",
        "plt.legend()\n",
        "\n",
        "# TODO: select the model with the best performance on the validation set\n",
        "data_lps=[]\n",
        "val_statss=[]\n",
        "for i in range(len(all_nbmodels)):\n",
        "  data_lps.append(eval_naivebayes(all_nbmodels[i],data_val_x))\n",
        "  val_statss.append(compare_predictions(data_val_y,data_lps[i]))\n",
        "\n",
        "max = 0\n",
        "maxindex = -1\n",
        "for i in range(len(val_statss)):\n",
        "  if val_statss[i]['pct_correct'] > max:\n",
        "    max = val_statss[i]['pct_correct']\n",
        "    maxindex = i\n",
        "nbmodel_MAP = all_nbmodels[maxindex]\n",
        "\n"
      ],
      "execution_count": 13,
      "outputs": [
        {
          "output_type": "stream",
          "name": "stdout",
          "text": [
            "[0, 0.1, 0.25, 0.5, 0.75, 1, 2, 4, 6, 8, 16]\n",
            "Fitting models...done.\n",
            "Evaluating models...done.\n"
          ]
        },
        {
          "output_type": "display_data",
          "data": {
            "image/png": "[encoded data removed]",
            "text/plain": [
              "<Figure size 432x288 with 1 Axes>"
            ]
          },
          "metadata": {
            "needs_background": "light"
          }
        }
      ]
    },
    {
      "cell_type": "markdown",
      "metadata": {
        "id": "L7VLedwd-3vP"
      },
      "source": [
        "**YOU NEED TO ANSWER THINGS HERE**\n",
        "\n",
        "Consider the outputs above as you answer the following questions.\n",
        "1. Describe and explain the difference between the model performance on the training and validation sets when performing maximum likelihood estimation.  That is, what differences do you notice in the performance and why they might be occuring?\n",
        "2. Which value of `prior_dof` should you use if you only looked at the model performance on the training curve?  What about if you looked instead at the model performance on the validation curve?  Explain your answer.\n",
        "3. What happens to model performance as `prior_dof` increases?  Why?  What would you expect to happen as `prior_dof` goes to infinity and why?  Specifically, how would the curves for training and validation performance behave in that limit?"
      ]
    },
    {
      "cell_type": "markdown",
      "metadata": {
        "id": "TtHEVmfeIsqU"
      },
      "source": [
        "# Step 3: Inspect the model\n",
        "\n",
        "**YOU MUST IMPLEMENT THINGS HERE**"
      ]
    },
    {
      "cell_type": "code",
      "metadata": {
        "id": "uzcib9pkK9nS",
        "colab": {
          "base_uri": "https://localhost:8080/"
        },
        "outputId": "4343cc17-6917-401e-b501-d17dac411c69"
      },
      "source": [
        "def find_val_importance(nbmodel,x,y):\n",
        "  imp_vals = []\n",
        "\n",
        "  t_num = np.sum(y == True)\n",
        "  f_num = np.sum(y == False)\n",
        "  \n",
        "  for c in x.columns:\n",
        "    \n",
        "    coltype = x.dtypes[c]\n",
        "    if coltype == 'bool':\n",
        "      # TODO: Compute importance value and append to imp_vals\n",
        "  \n",
        "      imp_val = abs(np.log(nbmodel['conds'][True][c]['params']['theta']) -np.log(nbmodel['conds'][False][c]['params']['theta']))\n",
        "      imp_vals.append((c,imp_val))\n",
        "  # sort imp_vals so that largest features are first\n",
        "  imp_vals.sort(key=lambda x: x[1],reverse=True)\n",
        "  return imp_vals\n",
        "\n",
        "impvals_full = find_val_importance(nbmodel_MAP,data_train_x,data_train_y)\n",
        "\n",
        "print('Top 5 most important binary features')\n",
        "for k,v in impvals_full[:10]:\n",
        "  print(' Importance of {}: {}'.format(k,v))\n",
        "\n",
        "print('\\nBottom 5 least important binary features')\n",
        "for k,v in impvals_full[-10:]:\n",
        "  print(' Importance of {}: {}'.format(k,v))"
      ],
      "execution_count": 15,
      "outputs": [
        {
          "output_type": "stream",
          "name": "stdout",
          "text": [
            "Top 5 most important binary features\n",
            " Importance of v3_ragged_r: 1.6631420914059616\n",
            " Importance of v4_diphasic_t: 1.6631420914059616\n",
            " Importance of di_ragged_p: 1.0753554265038425\n",
            " Importance of dii_diphasic_r: 1.0753554265038425\n",
            " Importance of dii_diphasic_t: 1.0753554265038425\n",
            " Importance of diii_diphasic_r: 1.0753554265038425\n",
            " Importance of avr_diphasic_t: 1.0753554265038425\n",
            " Importance of v1_ragged_p: 1.0753554265038425\n",
            " Importance of v1_diphasic_t: 1.0753554265038425\n",
            " Importance of v2_ragged_r: 1.0753554265038425\n",
            "\n",
            "Bottom 5 least important binary features\n",
            " Importance of v5_diphasic_r: 0.5340824859302575\n",
            " Importance of v5_ragged_p: 0.5340824859302575\n",
            " Importance of v5_diphasic_p: 0.5340824859302575\n",
            " Importance of v5_ragged_t: 0.5340824859302575\n",
            " Importance of v6_ragged_r: 0.5340824859302575\n",
            " Importance of v6_diphasic_r: 0.5340824859302575\n",
            " Importance of v6_ragged_p: 0.5340824859302575\n",
            " Importance of v6_diphasic_p: 0.5340824859302575\n",
            " Importance of v6_ragged_t: 0.5340824859302575\n",
            " Importance of sex: 0.21130909366720696\n"
          ]
        }
      ]
    }
  ]
}